{
 "cells": [
  {
   "cell_type": "code",
   "execution_count": 6,
   "id": "fd338f14-e6bc-4bda-b6a9-80b626082add",
   "metadata": {
    "tags": []
   },
   "outputs": [],
   "source": [
    "def rod_cut(length, prices):\n",
    "    # initializing a list of empty lists for each possible rod length from 0 to 'length'\n",
    "    best_cuts = [[] for _ in range(length + 1)]\n",
    "    # initializing a list for storing max revenue for each length\n",
    "    max_revenue = [0]*(length + 1)\n",
    "\n",
    "    # starting the first for loop to iterate through length up to n\n",
    "    for i in range(1, length + 1):\n",
    "        # starting the inner loop to check each possible cut up to length i\n",
    "        for cut_length in range(1, i + 1):\n",
    "            \n",
    "            # ensuring the cut length is within the range of available prices\n",
    "            if cut_length <= len(prices):\n",
    "                # calculating the value of cutting the rod at 'cut_length'\n",
    "                current_value = prices[cut_length - 1] + max_revenue[i - cut_length]\n",
    "\n",
    "                # updating the max if this cut gives a higher revenue than was recorded previously\n",
    "                if current_value > max_revenue[i]:\n",
    "                    max_revenue[i] = current_value\n",
    "                    # combining the best cuts from the remaining length with the current cut length\n",
    "                    best_cuts[i] = best_cuts[i - cut_length] + [cut_length]\n",
    "    \n",
    "    # return the recommended cuts lengths\n",
    "    return best_cuts[length]\n",
    "\n"
   ]
  },
  {
   "cell_type": "code",
   "execution_count": 7,
   "id": "9d4a1f82-71e2-4613-9e56-641714c97661",
   "metadata": {
    "tags": []
   },
   "outputs": [
    {
     "name": "stdout",
     "output_type": "stream",
     "text": [
      "Here's the list of recommended lengths: [6, 2]\n"
     ]
    }
   ],
   "source": [
    "# testing the function using the example from the assignment\n",
    "\n",
    "rod_length = 8\n",
    "prices_array = [1, 5, 8, 9, 10, 17, 17, 20]\n",
    "recommendation = rod_cut(rod_length, prices_array)\n",
    "print(\"Here's the list of recommended lengths:\", recommendation)"
   ]
  },
  {
   "cell_type": "code",
   "execution_count": null,
   "id": "b6c2464a-cf72-43c8-8bc2-1a302675fff9",
   "metadata": {},
   "outputs": [],
   "source": []
  }
 ],
 "metadata": {
  "kernelspec": {
   "display_name": "Python 3 (ipykernel)",
   "language": "python",
   "name": "python3"
  },
  "language_info": {
   "codemirror_mode": {
    "name": "ipython",
    "version": 3
   },
   "file_extension": ".py",
   "mimetype": "text/x-python",
   "name": "python",
   "nbconvert_exporter": "python",
   "pygments_lexer": "ipython3",
   "version": "3.10.9"
  }
 },
 "nbformat": 4,
 "nbformat_minor": 5
}
