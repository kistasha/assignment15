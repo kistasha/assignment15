{
 "cells": [
  {
   "cell_type": "markdown",
   "id": "74530d40-d650-4f36-a143-c652523a6da2",
   "metadata": {},
   "source": [
    "Using Brute-Force..."
   ]
  },
  {
   "cell_type": "code",
   "execution_count": 9,
   "id": "5b2daacf-b569-4a60-b63f-e1bd6f5781f8",
   "metadata": {
    "tags": []
   },
   "outputs": [],
   "source": [
    "# defining the function with two parameters \n",
    "def rod_cut(length,prices):\n",
    "    # first off, we need to account for the case where the length is 0...\n",
    "    if length == 0:\n",
    "        return [],0\n",
    "    # initializing max value variable\n",
    "    max_value = 0\n",
    "    # initializing an empty list that will contain best cuts and will be returned eventually by the function\n",
    "    best_cuts = [] \n",
    "\n",
    "    # starting the for loop to cut the rod in every possible way that will run as long as the length allows\n",
    "    for cut_length in range(1,length+1):\n",
    "        if cut_length <= len(prices): \n",
    "            # calling the function again for the remaining length\n",
    "            cuts, current_value = rod_cut(length-cut_length,prices)\n",
    "            # incrementing the value var after every cut\n",
    "            current_value += prices[cut_length-1]\n",
    "            \n",
    "            if current_value > max_value:\n",
    "                # setting the new max in case the current value turned out to be better\n",
    "                max_value = current_value  \n",
    "                # keep the cut lengths for this max value as best_cuts since the value is maximized at this point\n",
    "                best_cuts = cuts + [cut_length]  \n",
    "\n",
    "    return best_cuts, max_value"
   ]
  },
  {
   "cell_type": "code",
   "execution_count": 10,
   "id": "ed4e555d-6fff-425f-85d7-6b2193dd5877",
   "metadata": {
    "tags": []
   },
   "outputs": [
    {
     "name": "stdout",
     "output_type": "stream",
     "text": [
      "Recommended lengths to cut the rod: [6, 2]\n"
     ]
    }
   ],
   "source": [
    "rod_length = 8\n",
    "prices_array = [1, 5, 8, 9, 10, 17, 17, 20]\n",
    "\n",
    "# returning the list of recommended lengths\n",
    "best_cuts, max_value = rod_cut(rod_length, prices_array)\n",
    "print(\"Recommended lengths to cut the rod:\", best_cuts)\n"
   ]
  },
  {
   "cell_type": "code",
   "execution_count": null,
   "id": "e7883af9-a38a-427a-9f45-26bd16402706",
   "metadata": {},
   "outputs": [],
   "source": []
  }
 ],
 "metadata": {
  "kernelspec": {
   "display_name": "Python 3 (ipykernel)",
   "language": "python",
   "name": "python3"
  },
  "language_info": {
   "codemirror_mode": {
    "name": "ipython",
    "version": 3
   },
   "file_extension": ".py",
   "mimetype": "text/x-python",
   "name": "python",
   "nbconvert_exporter": "python",
   "pygments_lexer": "ipython3",
   "version": "3.10.9"
  }
 },
 "nbformat": 4,
 "nbformat_minor": 5
}
